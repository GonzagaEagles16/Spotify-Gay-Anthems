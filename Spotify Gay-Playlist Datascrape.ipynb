{
 "cells": [
  {
   "cell_type": "code",
   "execution_count": 2,
   "metadata": {
    "collapsed": false
   },
   "outputs": [],
   "source": [
    "import json\n",
    "import requests\n",
    "import spotipy\n",
    "import spotipy.util as util\n",
    "import pprint\n",
    "import pandas as pd\n",
    "import numpy as np\n",
    "\n",
    "from bs4 import BeautifulSoup\n",
    "import re\n",
    "from unidecode import unidecode\n",
    "\n",
    "import os, io\n",
    "import sys"
   ]
  },
  {
   "cell_type": "code",
   "execution_count": 5,
   "metadata": {
    "collapsed": false,
    "scrolled": false
   },
   "outputs": [
    {
     "name": "stdout",
     "output_type": "stream",
     "text": [
      "\n",
      "\n",
      "            User authentication requires interaction with your\n",
      "            web browser. Once you enter your credentials and\n",
      "            give authorization, you will be redirected to\n",
      "            a url.  Paste that url you were directed to to\n",
      "            complete the authorization.\n",
      "\n",
      "        \n",
      "Opening https://accounts.spotify.com/authorize?redirect_uri=wgss200%3A%2F%2Fcallback&response_type=code&client_id=d9056d3e1b574fcea9b9f677f2ec6b01 in your browser\n",
      "\n",
      "\n",
      "Enter the URL you were redirected to: wgss200://callback/?code=AQDR8YvESS28QIBWfC98vu3Alp_d0VJDhWPaROD2-w3Um_I41kk-81R2KL62-c46RJs3oEwbFDm7cUBrfTs-nEU3wGdjmKZymobFAyWfX2jNDa6yCIdEB1w2vVRxVc570eiWcH5G_WWBUuzuOoLf3TnsMkXk0byBozGwiccVY9SG-q-35q4ajg\n",
      "\n",
      "\n",
      "Successfully received auth token\n"
     ]
    }
   ],
   "source": [
    "# Get Authorization from Spotify\n",
    "# Replace with your own API keys\n",
    "my_client_id = 'MY_CLIENT_ID'\n",
    "my_secret = 'MY_SECRET_KEY'\n",
    "my_redirect_uri = 'wgss200://callback'\n",
    "\n",
    "scope = ''\n",
    "spotify = spotipy.Spotify()\n",
    "\n",
    "username = 'SPOTIFY_ACCOUNT_EMAIL_ADDRESS'\n",
    "\n",
    "# PROMPT_FOR_USER_TOKEN should open up a new tab where you can sign in to Spotify\n",
    "# if sign in is successful, it will redirect you to a new page that contains a token\n",
    "# Copy and paste the URL into the input field\n",
    "# Google Chrome has known to have issues wit this process. (I open the link and Firefox)\n",
    "token = util.prompt_for_user_token(username,scope,my_client_id,my_secret,redirect_uri=my_redirect_uri)\n",
    "\n",
    "if token:\n",
    "    sp = spotipy.Spotify(auth=token)\n",
    "    print 'Successfully received auth token'\n",
    "else:\n",
    "    print 'Cannot get token for', username"
   ]
  },
  {
   "cell_type": "markdown",
   "metadata": {},
   "source": [
    "# Outline of Data Scraping Procedure\n",
    "- For a given list of keywords, return a dataframe of songs from the playlists results for an individual keyword search\n",
    "    - For each keyword:\n",
    "        - Get a list of all the playlists\n",
    "        - For each playlist:\n",
    "            - Extract the tracks for each playlist\n",
    "            - Append playlist information to song entry\n",
    "        - Appends keyword data to each song entry\n",
    "    - Combine list of tracks to one big dataframe"
   ]
  },
  {
   "cell_type": "code",
   "execution_count": 8,
   "metadata": {
    "collapsed": false
   },
   "outputs": [],
   "source": [
    "def extract_track_data(track_dict):\n",
    "    \"\"\"\n",
    "    EXTRACT_TRACK_DATA(track_dict) takes a 'track'-object and extracts the track's:\n",
    "        track_id, track_name, track_popularity, track_artists \n",
    "\n",
    "    If track_dict is empty, return an empty dictionary\n",
    "    \"\"\"\n",
    "    track = {}\n",
    "    if not track_dict:\n",
    "        return track\n",
    "\n",
    "    track['track_id'] = track_dict['id']\n",
    "    track['track_name'] = track_dict['name']\n",
    "    track['popularity'] = track_dict['popularity']\n",
    "    track['artists'] = [artist['name'] for artist in track_dict['artists']]\n",
    "\n",
    "    return track\n",
    "\n",
    "def get_tracks(playlist, keyword):\n",
    "    \"\"\"\n",
    "    Takes a Spotify playlist dictionary-object and returns\n",
    "    a list of entry dictionaries with the relevant track and playlist info\n",
    "    \"\"\"\n",
    "    if not playlist:\n",
    "        return []\n",
    "    \n",
    "    playlist_user = playlist['owner']['id']\n",
    "    playlist_id = playlist['id']\n",
    "    \n",
    "    # Results are returned as 'pages' (a set with a fixed number of songs)\n",
    "    result = sp.user_playlist_tracks(playlist_user, playlist_id)\n",
    "    \n",
    "    # Handle 1 page playlists\n",
    "    if result.has_key('items'):\n",
    "        tracks = result['items']\n",
    "    else:\n",
    "        return []\n",
    "    \n",
    "    # The method sp.next(result) returns the next page after\n",
    "    # extracting the tracks of that page\n",
    "    while result['next']:\n",
    "        result = sp.next(result)\n",
    "        tracks.extend(result['items'])\n",
    "    \n",
    "    # Now we need to extract the relevant information\n",
    "    entries = []\n",
    "    \n",
    "    # Takes the track dictionary-object and adds playlist metadata:\n",
    "    #      playlist_id, playlist_name, playlist_user\n",
    "    for track in tracks:\n",
    "        entry = extract_track_data(track['track'])\n",
    "        entry['playlist_id'] = playlist_id\n",
    "        entry['playlist_owner'] = playlist_user\n",
    "        entry['playlist_name'] = playlist['name']\n",
    "        entry['keyword'] = keyword\n",
    "        \n",
    "        entries.append(entry)\n",
    "        \n",
    "        print '[INFO] Appended track: ', entry\n",
    "        \n",
    "    return entries\n",
    "        \n",
    "def get_playlists(sp, keyword):\n",
    "    \"\"\"\n",
    "    GET_PLAYLISTS accepts a search query KEYWORD and returns \n",
    "    a list of playlist dictionary-objects\n",
    "    \"\"\"\n",
    "    results = sp.search(q=keyword,type='playlist')\n",
    "    \n",
    "    # A list of dictionarys; each dictionary is a 'playlist' object\n",
    "    playlists = results['playlists']['items']\n",
    "\n",
    "    # Results are also page objects\n",
    "    # sp.next gets the next page of playlists\n",
    "    while results['playlists']['next']:\n",
    "        results = sp.next(results['playlists'])\n",
    "        playlists.extend(results['playlists']['items'])\n",
    "\n",
    "    return playlists\n",
    "    \n",
    "def get_songs_for_keywords(sp, keywords, save = True):\n",
    "    \"\"\"\n",
    "    Returns a pandas.DataFrame where each row is a track found \n",
    "    in a playlist by searching Spotify for each keyword in KEYWORDS\n",
    "    \n",
    "    If SAVE == True: append tracks to a csv file for each keyword\n",
    "        Filename: spotify_{$KEYWORD}_songs.csv\n",
    "    \"\"\"\n",
    "    song_df = pd.DataFrame()\n",
    "    for keyword in keywords:\n",
    "        song_csv_file = 'spotify_%s_songs.csv' % keyword\n",
    "\n",
    "        playlists = get_playlists(sp, keyword)\n",
    "        \n",
    "        index = 0 \n",
    "        for playlist in playlists:\n",
    "            print '[INFO] Playlist Number: ',index\n",
    "            try:\n",
    "                track_entries = get_tracks(playlist, keyword)\n",
    "            except:\n",
    "                track_entries = []\n",
    "                print 'Error extracting tracks'\n",
    "            \n",
    "            tracks_df = pd.DataFrame(track_entries)\n",
    "            if save:\n",
    "                csv_string = tracks_df.to_csv(header=True,index=False)\n",
    "                with open(song_csv_file,'ab') as output:\n",
    "                    output.write(csv_string)\n",
    "                \n",
    "            song_df = song_df.append(tracks_df, ignore_index=True)\n",
    "            index = index + 1\n",
    "        \n",
    "    return song_df        "
   ]
  },
  {
   "cell_type": "markdown",
   "metadata": {},
   "source": [
    "# Research:\n",
    "Extract playlists for the following keywords:\n",
    "    - gay\n",
    "    - lesbian\n",
    "    - bisexual\n",
    "    - transgender"
   ]
  },
  {
   "cell_type": "code",
   "execution_count": null,
   "metadata": {
    "collapsed": false,
    "scrolled": true
   },
   "outputs": [],
   "source": [
    "reload(sys)  \n",
    "sys.setdefaultencoding('utf8')\n",
    "\n",
    "spotify_gay_dataset = get_songs_for_keywords(['gay'], save = True)\n",
    "spotify_LBTQ = get_songs_for_keywords(['lesbian','bisexual','transgender'], save = True)"
   ]
  },
  {
   "cell_type": "markdown",
   "metadata": {},
   "source": [
    "# Results\n",
    "Only the gay-keyword dataset had a substantial amount of entries. \n",
    "\n",
    "We will look for the highest occuring songs in the dataset"
   ]
  },
  {
   "cell_type": "code",
   "execution_count": 36,
   "metadata": {
    "collapsed": false
   },
   "outputs": [
    {
     "data": {
      "text/html": [
       "<div>\n",
       "<table border=\"1\" class=\"dataframe\">\n",
       "  <thead>\n",
       "    <tr style=\"text-align: right;\">\n",
       "      <th></th>\n",
       "      <th>artists</th>\n",
       "      <th>keyword</th>\n",
       "      <th>playlist_id</th>\n",
       "      <th>playlist_name</th>\n",
       "      <th>playlist_owner</th>\n",
       "      <th>popularity</th>\n",
       "      <th>track_id</th>\n",
       "      <th>track_name</th>\n",
       "    </tr>\n",
       "  </thead>\n",
       "  <tbody>\n",
       "    <tr>\n",
       "      <th>0</th>\n",
       "      <td>[u'Ke$ha']</td>\n",
       "      <td>gay</td>\n",
       "      <td>3unWhWfWvs8UGxLGZoaFYF</td>\n",
       "      <td>GAY ANTHEMS</td>\n",
       "      <td>1190853721</td>\n",
       "      <td>78</td>\n",
       "      <td>6mnjcTmK8TewHfyOp3fC9C</td>\n",
       "      <td>Die Young</td>\n",
       "    </tr>\n",
       "    <tr>\n",
       "      <th>1</th>\n",
       "      <td>[u'Britney Spears']</td>\n",
       "      <td>gay</td>\n",
       "      <td>3unWhWfWvs8UGxLGZoaFYF</td>\n",
       "      <td>GAY ANTHEMS</td>\n",
       "      <td>1190853721</td>\n",
       "      <td>71</td>\n",
       "      <td>717TY4sfgKQm4kFbYQIzgo</td>\n",
       "      <td>Toxic</td>\n",
       "    </tr>\n",
       "    <tr>\n",
       "      <th>2</th>\n",
       "      <td>[u'Nicki Minaj']</td>\n",
       "      <td>gay</td>\n",
       "      <td>3unWhWfWvs8UGxLGZoaFYF</td>\n",
       "      <td>GAY ANTHEMS</td>\n",
       "      <td>1190853721</td>\n",
       "      <td>73</td>\n",
       "      <td>2EBCVPNAG46nbgs6jXPGvv</td>\n",
       "      <td>Starships</td>\n",
       "    </tr>\n",
       "    <tr>\n",
       "      <th>3</th>\n",
       "      <td>[u'Spice Girls']</td>\n",
       "      <td>gay</td>\n",
       "      <td>3unWhWfWvs8UGxLGZoaFYF</td>\n",
       "      <td>GAY ANTHEMS</td>\n",
       "      <td>1190853721</td>\n",
       "      <td>79</td>\n",
       "      <td>1Je1IMUlBXcx1Fz0WE7oPT</td>\n",
       "      <td>Wannabe - Radio Edit</td>\n",
       "    </tr>\n",
       "    <tr>\n",
       "      <th>4</th>\n",
       "      <td>[u'Katy Perry', u'Juicy J']</td>\n",
       "      <td>gay</td>\n",
       "      <td>3unWhWfWvs8UGxLGZoaFYF</td>\n",
       "      <td>GAY ANTHEMS</td>\n",
       "      <td>1190853721</td>\n",
       "      <td>81</td>\n",
       "      <td>4kgsK0fftHtg9gZOzkU5T2</td>\n",
       "      <td>Dark Horse</td>\n",
       "    </tr>\n",
       "  </tbody>\n",
       "</table>\n",
       "</div>"
      ],
      "text/plain": [
       "                       artists keyword             playlist_id playlist_name  \\\n",
       "0                   [u'Ke$ha']     gay  3unWhWfWvs8UGxLGZoaFYF   GAY ANTHEMS   \n",
       "1          [u'Britney Spears']     gay  3unWhWfWvs8UGxLGZoaFYF   GAY ANTHEMS   \n",
       "2             [u'Nicki Minaj']     gay  3unWhWfWvs8UGxLGZoaFYF   GAY ANTHEMS   \n",
       "3             [u'Spice Girls']     gay  3unWhWfWvs8UGxLGZoaFYF   GAY ANTHEMS   \n",
       "4  [u'Katy Perry', u'Juicy J']     gay  3unWhWfWvs8UGxLGZoaFYF   GAY ANTHEMS   \n",
       "\n",
       "  playlist_owner  popularity                track_id            track_name  \n",
       "0     1190853721          78  6mnjcTmK8TewHfyOp3fC9C             Die Young  \n",
       "1     1190853721          71  717TY4sfgKQm4kFbYQIzgo                 Toxic  \n",
       "2     1190853721          73  2EBCVPNAG46nbgs6jXPGvv             Starships  \n",
       "3     1190853721          79  1Je1IMUlBXcx1Fz0WE7oPT  Wannabe - Radio Edit  \n",
       "4     1190853721          81  4kgsK0fftHtg9gZOzkU5T2            Dark Horse  "
      ]
     },
     "execution_count": 36,
     "metadata": {},
     "output_type": "execute_result"
    }
   ],
   "source": [
    "# Loading dataset from saved .csv file \n",
    "gdf = pd.read_csv('spotify_gay_songs.csv')\n",
    "gdf.head()"
   ]
  },
  {
   "cell_type": "code",
   "execution_count": 46,
   "metadata": {
    "collapsed": false
   },
   "outputs": [
    {
     "name": "stdout",
     "output_type": "stream",
     "text": [
      "[('Where Are \\xc3\\x9c Now (with Justin Bieber)', 127), ('See You Again (feat. Charlie Puth)', 109), ('Trap Queen', 102), ('Thinking Out Loud', 94), ('Stole the Show', 87), ('Firestone', 84), ('Chandelier', 79), ('Shut up and Dance', 76), ('Want To Want Me', 76), ('Worth It', 76)]\n"
     ]
    }
   ],
   "source": [
    "from collections import Counter\n",
    "\n",
    "song_id2name = {song_id : song_name \n",
    "                for (song_id, song_name) in zip(gdf['track_id'],gdf['track_name'])}\n",
    "counter = Counter(gdf['track_id'])\n",
    "\n",
    "# NaN will be the highest count - remove it\n",
    "song_id = counter.most_common(11)[1:]\n",
    "\n",
    "top_10 = [(song_id2name[i], count) for (i, count) in song_id]\n",
    "print top_10"
   ]
  },
  {
   "cell_type": "markdown",
   "metadata": {},
   "source": [
    "These results were a little too Top 100. I want to see if I can find a more distinct list of gay-anthems, so I filtered out any song on the Top 100"
   ]
  },
  {
   "cell_type": "code",
   "execution_count": 10,
   "metadata": {
    "collapsed": false,
    "scrolled": false
   },
   "outputs": [],
   "source": [
    "with open('billboard_top100.html') as fp:\n",
    "    soup = BeautifulSoup(fp.read(), 'html')"
   ]
  },
  {
   "cell_type": "code",
   "execution_count": 49,
   "metadata": {
    "collapsed": false,
    "scrolled": true
   },
   "outputs": [
    {
     "name": "stdout",
     "output_type": "stream",
     "text": [
      "['What Do You Mean?', \"Can't Feel My Face\", 'The Hills', 'Watch Me', 'Cheerleader', 'Lean On', 'Good For You', '679', 'Locked Away', 'Where Are U Now', 'Cool For The Summer', 'Photograph', 'Fight Song', 'Trap Queen', 'Wildest Dreams', 'My Way', 'Shut Up And Dance', 'Downtown', 'Stitches', 'See You Again', 'Bad Blood', 'Hotline Bling', 'Drag Me Down', 'Hit The Quan', 'Uptown Funk!', 'Marvin Gaye', 'Uma Thurman', 'All Eyes On You', 'Worth It', 'Classic Man', 'Flex (Ooh Ooh Ooh)', 'Want To Want Me', 'House Party', 'Thinking Out Loud', \"Honey, I'm Good.\", 'Sugar', 'Earned It (Fifty Shades Of Grey)', 'Post To Be', 'Back To Back', 'Renegades', 'John Cougar, John Deere, John 3:16', 'Again', 'Hey Mama', 'Love Myself', 'Buy Me A Boat', 'Crash And Burn', 'Prisoner', 'Strip It Down', 'Planes', \"Ex's & Oh's\", \"Should've Been Us\", 'Where Ya At', \"Like I'm Gonna Lose You\", 'Tell Your Friends', 'How Deep Is Your Love', 'This Could Be Us', \"I Don't Like It, I Love It\", \"She's Kinda Hot\", 'Lose My Mind', 'Acquainted', 'Hell Of A Night', 'Real Life', 'Save It For A Rainy Day', 'Kick The Dust Up', 'El Perdon', 'Here', 'Burning House', 'Comfortable', 'Fly', 'Levels', 'Beautiful Now', 'Ghost Town', 'Anything Goes', 'Black Magic', 'Break Up With Him', 'Smoke Break', 'Roots', \"I'm Comin' Over\", 'Shameless', 'Rotten To The Core', 'Cheyenne', 'One Man Can Change The World', 'Loving You Easy', 'Alright', 'Losers', 'Do It Again', 'R.I.C.O.', 'Let Me See Ya Girl', 'Omen', 'Young & Crazy', '100', 'No Role Modelz', 'Dark Times', \"Nothin' Like You\", 'Jet Black Heart', 'Gonna Wanna Tonight', 'New Americana', 'The Night Is Still Young', 'Real Life', 'In The Night']\n"
     ]
    }
   ],
   "source": [
    "# Each Song is in an <article> tag with a tag ID=\"row-#\"\n",
    "# and data-hovertracklabel = 'Song Hover-{$SONGNAME}'\n",
    "charts = soup.find_all('article', id=lambda x: x.startswith('row-') if x else False)\n",
    "charts = [re.sub('Song Hover-', '', label['data-hovertracklabel']) for label in charts]\n",
    "print charts\n",
    "assert len(charts) == 100"
   ]
  },
  {
   "cell_type": "code",
   "execution_count": 82,
   "metadata": {
    "collapsed": false,
    "scrolled": true
   },
   "outputs": [],
   "source": [
    "# Get most common 105 songs - in case all songs are in the top 100 (highly unlikely)\n",
    "song_id = counter.most_common(106)[1:]\n",
    "top_105 = [(song_id2name[i], count) for (i, count) in song_id]\n",
    "\n",
    "def is_top_billboard(song, billboards):\n",
    "    # Unidecode converts unicode characters to their closest ASCII equivalent\n",
    "    song = unidecode(song)\n",
    "    \n",
    "    # Billboard song names are stripped names\n",
    "    # Spotify song names have extra details (e.g. ft. ARTIST, '- Radio Edit')\n",
    "    for s in billboards:\n",
    "        if re.search(s, song, re.IGNORECASE):\n",
    "            return True\n",
    "    return False"
   ]
  },
  {
   "cell_type": "code",
   "execution_count": 81,
   "metadata": {
    "collapsed": false
   },
   "outputs": [
    {
     "name": "stdout",
     "output_type": "stream",
     "text": [
      "[('Stole the Show', 87), ('Firestone', 84), ('Chandelier', 79), ('Wannabe - Radio Edit', 72), ('Believe', 67)]\n"
     ]
    }
   ],
   "source": [
    "top_gay_songs = [(song,count) for (song,count) in top_105 if not is_top_billboard(unicode(song,'utf-8'),charts)]\n",
    "print top_gay_songs[:5]"
   ]
  }
 ],
 "metadata": {
  "kernelspec": {
   "display_name": "Python 2",
   "language": "python",
   "name": "python2"
  },
  "language_info": {
   "codemirror_mode": {
    "name": "ipython",
    "version": 2
   },
   "file_extension": ".py",
   "mimetype": "text/x-python",
   "name": "python",
   "nbconvert_exporter": "python",
   "pygments_lexer": "ipython2",
   "version": "2.7.10"
  }
 },
 "nbformat": 4,
 "nbformat_minor": 0
}
